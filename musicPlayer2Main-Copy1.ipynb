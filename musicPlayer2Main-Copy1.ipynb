{
 "cells": [
  {
   "cell_type": "code",
   "execution_count": 1,
   "id": "1426bce9",
   "metadata": {},
   "outputs": [
    {
     "name": "stdout",
     "output_type": "stream",
     "text": [
      "pygame 2.2.0 (SDL 2.0.22, Python 3.10.6)\n",
      "Hello from the pygame community. https://www.pygame.org/contribute.html\n"
     ]
    }
   ],
   "source": [
    "import os\n",
    "import pygame\n",
    "from tkinter import *\n",
    "from tkinter import filedialog\n",
    "import random\n",
    "from PIL import Image, ImageTk, ImageSequence"
   ]
  },
  {
   "cell_type": "code",
   "execution_count": 18,
   "id": "06f1c343",
   "metadata": {},
   "outputs": [],
   "source": [
    "\n",
    "pygame.mixer.init()"
   ]
  },
  {
   "cell_type": "code",
   "execution_count": 19,
   "id": "07765173",
   "metadata": {},
   "outputs": [],
   "source": [
    "\n",
    "root = Tk()\n",
    "root.title(\"Music Player\")\n",
    "root.geometry(\"700x500\")\n",
    "root.config(bg=\"black\")"
   ]
  },
  {
   "cell_type": "code",
   "execution_count": 20,
   "id": "b6afd303",
   "metadata": {},
   "outputs": [],
   "source": [
    "\n",
    "music_files = []\n",
    "current_index = 0"
   ]
  },
  {
   "cell_type": "code",
   "execution_count": 21,
   "id": "9fcc0078",
   "metadata": {},
   "outputs": [],
   "source": [
    "\n",
    "DISPLAY_WIDTH = 400\n",
    "DISPLAY_HEIGHT = 400"
   ]
  },
  {
   "cell_type": "code",
   "execution_count": 22,
   "id": "bf1bd7e7",
   "metadata": {},
   "outputs": [],
   "source": [
    "gif_image = Image.open(\"music.gif\")\n",
    "gif_frames = [ImageTk.PhotoImage(img) for img in ImageSequence.Iterator(gif_image)]\n",
    "gif_label = Label(root)"
   ]
  },
  {
   "cell_type": "code",
   "execution_count": 23,
   "id": "b0b5a9be",
   "metadata": {},
   "outputs": [],
   "source": [
    "def update_gif(frame_num=0):\n",
    "    gif_label.configure(image=gif_frames[frame_num])  \n",
    "    root.after(50, update_gif, (frame_num+1) % len(gif_frames))"
   ]
  },
  {
   "cell_type": "code",
   "execution_count": 24,
   "id": "4790e0d0",
   "metadata": {},
   "outputs": [],
   "source": [
    "def play_music():\n",
    "    \n",
    "    global music_files, current_index\n",
    "    \n",
    "   \n",
    "    selected_item = playlist.curselection()\n",
    "    \n",
    "   \n",
    "    if selected_item:\n",
    "        current_index = selected_item[0]\n",
    "        pygame.mixer.music.load(music_files[current_index])\n",
    "        pygame.mixer.music.play()\n",
    "        \n",
    "        song_name.set(os.path.basename(music_files[current_index]))\n",
    "        \n",
    "        gif_label.pack(side=RIGHT, padx=20, pady=20)\n",
    "        update_gif()\n",
    "   \n",
    "   "
   ]
  },
  {
   "cell_type": "code",
   "execution_count": 25,
   "id": "83805e0f",
   "metadata": {},
   "outputs": [],
   "source": [
    "def stop_music():\n",
    "    \n",
    "    pygame.mixer.music.stop()\n",
    "    gif_label.pack_forget()"
   ]
  },
  {
   "cell_type": "code",
   "execution_count": 26,
   "id": "a144ac13",
   "metadata": {},
   "outputs": [],
   "source": [
    "def select_music():\n",
    "    \n",
    "    global music_files\n",
    "    selected_files = filedialog.askopenfilenames()\n",
    "    \n",
    "    \n",
    "    for file in selected_files:\n",
    "        music_files.append(file)\n",
    "        filename = os.path.basename(file)\n",
    "        playlist.insert(END, filename)\n",
    "    \n",
    "        \n",
    "playlist = Listbox(root, bg=\"grey\", fg=\"black\", selectbackground=\"#4caf50\", selectforeground=\"white\")\n",
    "playlist.pack(fill=BOTH, expand=True, padx=10, pady=10)"
   ]
  },
  {
   "cell_type": "code",
   "execution_count": 27,
   "id": "65c8071e",
   "metadata": {},
   "outputs": [],
   "source": [
    "def shuffle_music():\n",
    "    \n",
    "    global music_files, current_index\n",
    "    \n",
    "    if music_files:\n",
    "        \n",
    "        random_index = random.randint(0, len(music_files) - 1)\n",
    "        \n",
    "        current_index = random_index\n",
    "        \n",
    "        pygame.mixer.music.load(music_files[current_index])\n",
    "        \n",
    "        pygame.mixer.music.play()\n",
    "        song_name.set(os.path.basename(music_files[current_index]))"
   ]
  },
  {
   "cell_type": "code",
   "execution_count": 28,
   "id": "c9674ae6",
   "metadata": {},
   "outputs": [],
   "source": [
    "def next_music():\n",
    "    \n",
    "    global current_index, music_files\n",
    "    \n",
    "    if len(music_files) == 0:\n",
    "        \n",
    "        return\n",
    "    \n",
    "    \n",
    "    current_index = (current_index + 1) % len(music_files)\n",
    "    \n",
    "   \n",
    "    pygame.mixer.music.load(music_files[current_index])\n",
    "    gif_label.pack(side=RIGHT, padx=20, pady=20)\n",
    "    update_gif()\n",
    "    pygame.mixer.music.play()\n",
    "    song_name.set(os.path.basename(music_files[current_index]))"
   ]
  },
  {
   "cell_type": "code",
   "execution_count": 29,
   "id": "9310984c",
   "metadata": {},
   "outputs": [],
   "source": [
    "def play_previous():\n",
    "    \n",
    "    global current_index, music_files\n",
    "    \n",
    "    if len(music_files) == 0:\n",
    "       \n",
    "        return\n",
    "    \n",
    "   \n",
    "    current_index = (current_index - 1) % len(music_files)\n",
    "    \n",
    "    \n",
    "    pygame.mixer.music.load(music_files[current_index])\n",
    "    gif_label.pack(side=RIGHT, padx=20, pady=20)\n",
    "    update_gif()\n",
    "    pygame.mixer.music.play()\n",
    "    song_name.set(os.path.basename(music_files[current_index]))"
   ]
  },
  {
   "cell_type": "code",
   "execution_count": 30,
   "id": "12136a59",
   "metadata": {},
   "outputs": [],
   "source": [
    "# Create buttons to select, play, stop, shuffle, and go to the next song\n",
    "select_button = Button(root, text=\"Select Music\", command=select_music, fg=\"black\", bg=\"#ffc107\" )\n",
    "play_button = Button(root, text=\"Play\", command=play_music, fg=\"black\",  bg=\"#ffc107\")\n",
    "stop_button = Button(root, text=\"Stop\", command=stop_music, fg=\"black\",  bg=\"#ffc107\")\n",
    "shuffle_button = Button(root, text=\"Shuffle\", command=shuffle_music, fg=\"black\",  bg=\"#ffc107\")\n",
    "next_button = Button(root, text=\"Next\", command=next_music, fg=\"black\",  bg=\"#ffc107\")\n",
    "previous_button = Button(root, text=\"Previous\", command=play_previous, fg=\"black\",  bg=\"#ffc107\")"
   ]
  },
  {
   "cell_type": "code",
   "execution_count": 31,
   "id": "346ff2b3",
   "metadata": {},
   "outputs": [],
   "source": [
    "# To pack the created buttons into the GUI\n",
    "select_button.pack(side=LEFT, padx=20, pady=20)\n",
    "play_button.pack(side=LEFT, padx=20, pady=20)\n",
    "stop_button.pack(side=LEFT, padx=20, pady=20)\n",
    "shuffle_button.pack(side=LEFT, padx=20, pady=20)\n",
    "next_button.pack(side=LEFT, padx=20, pady=20)\n",
    "previous_button.pack(side=LEFT, padx=20, pady=20)"
   ]
  },
  {
   "cell_type": "code",
   "execution_count": 32,
   "id": "6da0a481",
   "metadata": {},
   "outputs": [],
   "source": [
    "\n",
    "song_name = StringVar()\n",
    "song_name.set(\"No song playing\")\n",
    "song_label = Label(root, textvariable=song_name, font=(\"Helvetica\", 12), fg=\"white\", bg=\"#0d47a1\")\n",
    "song_label.pack(pady=20)\n"
   ]
  },
  {
   "cell_type": "code",
   "execution_count": null,
   "id": "e6135598",
   "metadata": {},
   "outputs": [],
   "source": []
  },
  {
   "cell_type": "code",
   "execution_count": 33,
   "id": "b2f2481d",
   "metadata": {},
   "outputs": [],
   "source": [
    "# Run the GUI\n",
    "root.mainloop()"
   ]
  },
  {
   "cell_type": "code",
   "execution_count": null,
   "id": "dd029d0f",
   "metadata": {},
   "outputs": [],
   "source": []
  },
  {
   "cell_type": "code",
   "execution_count": null,
   "id": "d037db07",
   "metadata": {},
   "outputs": [],
   "source": [
    "#to stop the pygame running in the background.\n",
    "pygame.mixer.quit()"
   ]
  },
  {
   "cell_type": "code",
   "execution_count": null,
   "id": "9e960cf7",
   "metadata": {},
   "outputs": [],
   "source": []
  },
  {
   "cell_type": "code",
   "execution_count": null,
   "id": "e4652c95",
   "metadata": {},
   "outputs": [],
   "source": []
  },
  {
   "cell_type": "code",
   "execution_count": null,
   "id": "dabb25f8",
   "metadata": {},
   "outputs": [],
   "source": []
  }
 ],
 "metadata": {
  "kernelspec": {
   "display_name": "Python 3 (ipykernel)",
   "language": "python",
   "name": "python3"
  },
  "language_info": {
   "codemirror_mode": {
    "name": "ipython",
    "version": 3
   },
   "file_extension": ".py",
   "mimetype": "text/x-python",
   "name": "python",
   "nbconvert_exporter": "python",
   "pygments_lexer": "ipython3",
   "version": "3.10.6"
  }
 },
 "nbformat": 4,
 "nbformat_minor": 5
}
